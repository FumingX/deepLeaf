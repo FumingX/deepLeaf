{
 "cells": [
  {
   "cell_type": "code",
   "execution_count": 1,
   "metadata": {},
   "outputs": [
    {
     "name": "stderr",
     "output_type": "stream",
     "text": [
      "Using TensorFlow backend.\n"
     ]
    }
   ],
   "source": [
    "import os\n",
    "import numpy as np\n",
    "import pandas\n",
    "from scipy.misc import imread, imresize\n",
    "import matplotlib.pyplot as plt\n",
    "from sklearn.preprocessing import LabelEncoder\n",
    "from sklearn.model_selection import StratifiedShuffleSplit\n",
    "from sklearn.preprocessing import StandardScaler\n",
    "import keras\n",
    "from keras.models import Sequential\n",
    "from keras.layers import Dense, Dropout, Activation, Flatten\n",
    "from keras.layers import Conv2D, MaxPooling2D\n",
    "\n",
    "os.environ[\"CUDA_VISIBLE_DEVICES\"] = \"0\"\n",
    "DATA_PATH = '/Users/zhaoyu/Dropbox/AI-II-8750/Project/Data/'\n",
    "PROJECT_PATH = '/Users/zhaoyu/Dropbox/AI-II-8750/Project/'"
   ]
  },
  {
   "cell_type": "code",
   "execution_count": 2,
   "metadata": {
    "collapsed": true
   },
   "outputs": [],
   "source": [
    "# read the train and test data\n",
    "# resize the image to 128 by 128\n",
    "\n",
    "train = pandas.read_csv(DATA_PATH + '/train.csv')\n",
    "test = pandas.read_csv(DATA_PATH + '/test.csv')\n",
    "\n",
    "# get the pre-extracted features\n",
    "feat_train = train.copy()\n",
    "feat_test = test.copy()\n",
    "feat_train = feat_train.drop(['id', 'species'], axis=1)\n",
    "feat_test = feat_test.drop(['id'], axis=1)\n",
    "feat_train = StandardScaler().fit(feat_train).transform(feat_train)\n",
    "feat_test = StandardScaler().fit(feat_test).transform(feat_test)"
   ]
  },
  {
   "cell_type": "code",
   "execution_count": 49,
   "metadata": {},
   "outputs": [],
   "source": [
    "# Data augmentation\n",
    "# image_data contains ALL images from the images folder\n",
    "\n",
    "# method 1: resize directly\n",
    "# image_data = {}\n",
    "# for img_file in os.listdir(DATA_PATH + '/images'):\n",
    "#     resized_img = imresize(imread(DATA_PATH + '/images/' + img_file), (256,256)).astype(np.float32)\n",
    "#     image_data[img_file.split(\".\")[0]] = resized_img\n",
    "\n",
    "# method 2: pad first, then resize\n",
    "image_data = {}\n",
    "for img_file in os.listdir(DATA_PATH + '/images'):\n",
    "    img = imread(DATA_PATH + '/images/' + img_file)\n",
    "    h, w = img.shape\n",
    "    max_dim = max(h, w)\n",
    "    padded_img = np.lib.pad(img, \n",
    "                     (((max_dim-h)//2, max_dim-h-(max_dim-h)//2), ((max_dim-w)//2, max_dim-w-(max_dim-w)//2)), \n",
    "                     'constant', constant_values=1)\n",
    "    resized_img = imresize(padded_img, (128, 128)).astype(np.float32)\n",
    "    image_data[img_file.split(\".\")[0]] = resized_img"
   ]
  },
  {
   "cell_type": "code",
   "execution_count": 50,
   "metadata": {},
   "outputs": [
    {
     "name": "stdout",
     "output_type": "stream",
     "text": [
      "(990, 194)\n",
      "(990, 192)\n",
      "(594, 193)\n",
      "(594, 192)\n",
      "1584\n"
     ]
    }
   ],
   "source": [
    "print(train.shape)\n",
    "print(feat_train.shape)\n",
    "print(test.shape)\n",
    "print(feat_test.shape)\n",
    "print(len(image_data))"
   ]
  },
  {
   "cell_type": "code",
   "execution_count": 51,
   "metadata": {
    "collapsed": true
   },
   "outputs": [],
   "source": [
    "# for key, value in image_data.items() :\n",
    "#     print (key, value)\n",
    "#     exit()"
   ]
  },
  {
   "cell_type": "code",
   "execution_count": 52,
   "metadata": {},
   "outputs": [
    {
     "name": "stdout",
     "output_type": "stream",
     "text": [
      "(128, 128)\n"
     ]
    },
    {
     "data": {
      "image/png": "[encoded data removed]",
      "text/plain": [
       "<matplotlib.figure.Figure at 0x1495fee80>"
      ]
     },
     "metadata": {},
     "output_type": "display_data"
    }
   ],
   "source": [
    "plt.imshow(image_data['2'], cmap='gray')\n",
    "print(image_data['1'].shape)\n",
    "plt.show()"
   ]
  },
  {
   "cell_type": "code",
   "execution_count": 53,
   "metadata": {},
   "outputs": [
    {
     "name": "stdout",
     "output_type": "stream",
     "text": [
      "['Acer_Capillipes' 'Acer_Circinatum' 'Acer_Mono' 'Acer_Opalus'\n",
      " 'Acer_Palmatum' 'Acer_Pictum' 'Acer_Platanoids' 'Acer_Rubrum'\n",
      " 'Acer_Rufinerve' 'Acer_Saccharinum' 'Alnus_Cordata' 'Alnus_Maximowiczii'\n",
      " 'Alnus_Rubra' 'Alnus_Sieboldiana' 'Alnus_Viridis' 'Arundinaria_Simonii'\n",
      " 'Betula_Austrosinensis' 'Betula_Pendula' 'Callicarpa_Bodinieri'\n",
      " 'Castanea_Sativa' 'Celtis_Koraiensis' 'Cercis_Siliquastrum'\n",
      " 'Cornus_Chinensis' 'Cornus_Controversa' 'Cornus_Macrophylla'\n",
      " 'Cotinus_Coggygria' 'Crataegus_Monogyna' 'Cytisus_Battandieri'\n",
      " 'Eucalyptus_Glaucescens' 'Eucalyptus_Neglecta' 'Eucalyptus_Urnigera'\n",
      " 'Fagus_Sylvatica' 'Ginkgo_Biloba' 'Ilex_Aquifolium' 'Ilex_Cornuta'\n",
      " 'Liquidambar_Styraciflua' 'Liriodendron_Tulipifera'\n",
      " 'Lithocarpus_Cleistocarpus' 'Lithocarpus_Edulis' 'Magnolia_Heptapeta'\n",
      " 'Magnolia_Salicifolia' 'Morus_Nigra' 'Olea_Europaea' 'Phildelphus'\n",
      " 'Populus_Adenopoda' 'Populus_Grandidentata' 'Populus_Nigra' 'Prunus_Avium'\n",
      " 'Prunus_X_Shmittii' 'Pterocarya_Stenoptera' 'Quercus_Afares'\n",
      " 'Quercus_Agrifolia' 'Quercus_Alnifolia' 'Quercus_Brantii'\n",
      " 'Quercus_Canariensis' 'Quercus_Castaneifolia' 'Quercus_Cerris'\n",
      " 'Quercus_Chrysolepis' 'Quercus_Coccifera' 'Quercus_Coccinea'\n",
      " 'Quercus_Crassifolia' 'Quercus_Crassipes' 'Quercus_Dolicholepis'\n",
      " 'Quercus_Ellipsoidalis' 'Quercus_Greggii' 'Quercus_Hartwissiana'\n",
      " 'Quercus_Ilex' 'Quercus_Imbricaria' 'Quercus_Infectoria_sub'\n",
      " 'Quercus_Kewensis' 'Quercus_Nigra' 'Quercus_Palustris' 'Quercus_Phellos'\n",
      " 'Quercus_Phillyraeoides' 'Quercus_Pontica' 'Quercus_Pubescens'\n",
      " 'Quercus_Pyrenaica' 'Quercus_Rhysophylla' 'Quercus_Rubra'\n",
      " 'Quercus_Semecarpifolia' 'Quercus_Shumardii' 'Quercus_Suber'\n",
      " 'Quercus_Texana' 'Quercus_Trojana' 'Quercus_Variabilis'\n",
      " 'Quercus_Vulcanica' 'Quercus_x_Hispanica' 'Quercus_x_Turneri'\n",
      " 'Rhododendron_x_Russellianum' 'Salix_Fragilis' 'Salix_Intergra'\n",
      " 'Sorbus_Aria' 'Tilia_Oliveri' 'Tilia_Platyphyllos' 'Tilia_Tomentosa'\n",
      " 'Ulmus_Bergmanniana' 'Viburnum_Tinus' 'Viburnum_x_Rhytidophylloides'\n",
      " 'Zelkova_Serrata']\n",
      "99\n"
     ]
    }
   ],
   "source": [
    "# get labels\n",
    "le = LabelEncoder()\n",
    "le.fit(train.species)\n",
    "print(le.classes_)\n",
    "print(len(le.classes_))"
   ]
  },
  {
   "cell_type": "code",
   "execution_count": 54,
   "metadata": {},
   "outputs": [
    {
     "name": "stdout",
     "output_type": "stream",
     "text": [
      "[ 3 49 65 94 84 40 54 78 53 89 98 16 74 50 58 31 43  4 75 44 83 84 13 66 15\n",
      "  6 73 22 73 31 36 27 94 88 12 28 21 25 20 60 84 65 69 58 23 76 18 52 54  9\n",
      " 48 47 64 81 83 36 58 21 81 20 62 88 34 92 79 82 20 32  4 84 36 35 72 60 71\n",
      " 72 52 50 54 11 51 18 47  5  8 37 97 20 33  1 59  1 56  1  9 57 20 79 29 16\n",
      " 32 54 93 10 46 59 84 76 15 10 15  0 69  4 51 51 94 36 39 62  2 24 26 35 25\n",
      " 87  0 55 34 38  1 45  7 93 56 38 21 51 75 81 74 33 20 37  9 40 60 31 83 50\n",
      " 71 67 30 66  1 43 61 23 65 84 87 46 57 16  2 28 12 96 44 76 29 75 41 87 67\n",
      " 61 30  5 12 62  3 83 81  6 85  4 37 57 84 39 71 61  6 76 14 31 98 40 17 51\n",
      " 16 42 63 86 37 69 86 71 80 78 14 35 25  5 39  8  9 26 44 60 13 14 77 13 80\n",
      " 87 18 60 78 92 51 45 78 41 51 30 14 35 46 21  8  6 92 38 40 15 32 17 93 71\n",
      " 92 27 78 15 19 60 21 38 36 49 74 67 95 31 82 45 16 83 63 80 42 22 74 53 15\n",
      " 44 47 57 94 76 17 32 24 15 93 24 80 59 46 12 51 77 79 70 69 16  2 63 83 55\n",
      " 12 53  1 67  0  2 36 42 10  9 52 59  6 22 86 31 51 37 43 75 90 24 86 96 45\n",
      " 32 98 36 66 48 73 73 79 56 41 21 25 27 97 18 44 45 40 80 63 20 35  0  8 27\n",
      " 25 35 59 61 21 37 29  6 19 78 50 54 37 93 33 46 79 59 29 43  0 23 17 38 66\n",
      " 38 89 17 25 31 65 10 26 86 58 42 46 24 95 93  8 53 32 14 10 94  8  8 64 44\n",
      " 74 30 97 22 11 68 56 90 96 16 43 57 91 24 28 82 90 64 61 92 28 84 70 45 85\n",
      " 34  7 88 89 61 26 88 41 46  8 91 41 14 98 28 26 36 70 74  7 52 70 42 66 22\n",
      " 13 44 91 53 22 16 40 40 28 70  6 60 95 23 16 50 29 49  9 18 55 63 60 19 28\n",
      " 30 31 85 66 88 63 83 64 96 13 34 27 95 36 72 29 91 22 65 71 66 11 32  2 75\n",
      " 39  5 37 67 81 55 61 57 81 82 63 55 54 35 86 25 24 96 10 58 59 28 89 54 52\n",
      " 85 68 69  8 39 95 39 82 48 74 52 74 55  9 47 84 91 12 96 82 64  7 40 73 77\n",
      " 11 36 68 23 28 46 75 43  2 11 47 53 56 62 62 80 56 30  3 88 37 33 73 76 21\n",
      "  5 76 87 68 83 62 57 47 19 88 96 42 23 44 87 82 49 63 24 94 69 54  5 79 43\n",
      " 12 50  5 52 92  4 84  1 33 49 26 18 44 13 24 73 89 78 67 41 11 46 47 69  0\n",
      " 18 98 44 85 29 53  1 45  3  9 13  2 66 59 79  6 17 43 83 26  1 12 49 71 89\n",
      " 58 93 39 42 15 38 55 15 93  4 90 88 55 40 55 17 34 94 57 92 81 26 60 89 49\n",
      " 89 30 65 58  4 19  4 76 74 71 21 54 13 16 72 68 62 61 25 72  7 12 18 77 90\n",
      " 62 14  3 78 65 37 27 50 95 98 60 72 58 38 87 93 19  7 83 50  3 91 77  7 64\n",
      " 61 69 23 76 65 48 41 92 20 91 18 70  9  9 29 85 67  0 35 98 91 90 31 53 39\n",
      " 24 85 96 17  7 11 96 39 56 90 79 45 64 97 41 19 74 11 10 62 95 28 96 10  7\n",
      " 68  7 93 34 42 68 41 14 22 58 12 71 27 98 72 91  3 43 19 61 75 20 81 63 67\n",
      " 56 26 47 11 31 57 62 66 19 75 97 94 13 75 95 32 50 97 52 87 32  3 47 77 48\n",
      " 33 73 64 49 68 43 94 77 68 47 82  2 30 23 33 34 66 33 35 88 68 27 87 54 79\n",
      " 34 67 65 18  4 26 30 52 86  0 29 80 67 95 39 25 70 58 35 27 17 38 91 13 23\n",
      " 77 79 77 22 49 98 48 46 48  5 63 97 80 53 20 25 78 10 65 33 41 85 90 98 97\n",
      " 71 95 52  3 29 69 51 70 27 22 34  6 48 72 21 89 17 97 72 80 10 57 64 92 38\n",
      " 15 73 87 73 48 42 82 33 56  3 42  1 53 55 90 19  6 30 86 64 49  2  8 45 76\n",
      " 92  0 23 69 59 80 90 32  5 59 85 89 94 45 48 86 81 14  4 77 56 82  2 85 70\n",
      " 88  0 75 14 86 81 97 70 72 34 40  5 11 78 50]\n",
      "990\n"
     ]
    }
   ],
   "source": [
    "train_labels = le.transform(train.species)\n",
    "print(train_labels)\n",
    "print(len(train_labels))"
   ]
  },
  {
   "cell_type": "code",
   "execution_count": 55,
   "metadata": {},
   "outputs": [
    {
     "name": "stdout",
     "output_type": "stream",
     "text": [
      "(990, 128, 128, 1)\n",
      "(594, 128, 128, 1)\n"
     ]
    }
   ],
   "source": [
    "# separate train and test from image_data\n",
    "image_train = np.array([image_data[str(idx)] for idx in train.id])\n",
    "image_test = np.array([image_data[str(idx)] for idx in test.id])\n",
    "image_train = np.expand_dims(image_train, axis=4)\n",
    "image_test = np.expand_dims(image_test, axis=4)\n",
    "print(image_train.shape)\n",
    "print(image_test.shape)"
   ]
  },
  {
   "cell_type": "code",
   "execution_count": 56,
   "metadata": {
    "collapsed": true
   },
   "outputs": [],
   "source": [
    "# # randomly split original train into train and validation\n",
    "# sss = StratifiedShuffleSplit(n_splits=1, test_size=0.1, random_state=0)\n",
    "# for train_index, val_index in sss.split(image_train, train_labels):\n",
    "#     image_train_X, image_val_X = image_train[train_index], image_train[val_index]\n",
    "#     image_train_Y, image_val_Y = train_labels[train_index], train_labels[val_index]\n",
    "#     print(image_train_X.shape)\n",
    "#     print(image_train_Y.shape)\n",
    "#     print(image_val_X.shape)\n",
    "#     print(image_val_Y.shape)\n",
    "#     print(\"TRAIN:\", train_index)\n",
    "#     print(\"VAL:\", val_index)\n",
    "#     plt.imshow(image_train_X[0, :, :, 0], cmap='gray')\n",
    "#     plt.show()\n",
    "#     print(train_index[0])\n",
    "#     print(image_train_Y[0])\n",
    "#     print(le.inverse_transform([image_train_Y[0]]))"
   ]
  },
  {
   "cell_type": "code",
   "execution_count": 57,
   "metadata": {},
   "outputs": [
    {
     "name": "stdout",
     "output_type": "stream",
     "text": [
      "(990, 128, 128, 1)\n",
      "(990, 99)\n",
      "[ 0.  0.  0.  1.  0.  0.  0.  0.  0.  0.  0.  0.  0.  0.  0.  0.  0.  0.\n",
      "  0.  0.  0.  0.  0.  0.  0.  0.  0.  0.  0.  0.  0.  0.  0.  0.  0.  0.\n",
      "  0.  0.  0.  0.  0.  0.  0.  0.  0.  0.  0.  0.  0.  0.  0.  0.  0.  0.\n",
      "  0.  0.  0.  0.  0.  0.  0.  0.  0.  0.  0.  0.  0.  0.  0.  0.  0.  0.\n",
      "  0.  0.  0.  0.  0.  0.  0.  0.  0.  0.  0.  0.  0.  0.  0.  0.  0.  0.\n",
      "  0.  0.  0.  0.  0.  0.  0.  0.  0.]\n"
     ]
    }
   ],
   "source": [
    "# Convert class vectors to binary class matrices (one-hot encoding)\n",
    "num_classes = 99\n",
    "train_labels_cat = keras.utils.to_categorical(train_labels, num_classes)\n",
    "print(image_train.shape)\n",
    "print(train_labels_cat.shape)\n",
    "print(train_labels_cat[0,:])"
   ]
  },
  {
   "cell_type": "code",
   "execution_count": 58,
   "metadata": {},
   "outputs": [],
   "source": [
    "# build keras model for Images only\n",
    "# model 1: following the CIFAR 10 example from Keras\n",
    "img_model = Sequential()\n",
    "\n",
    "img_model.add(Conv2D(32, (3, 3), padding='same', input_shape=image_train.shape[1:]))\n",
    "img_model.add(Activation('relu'))\n",
    "img_model.add(Conv2D(32, (3, 3)))\n",
    "img_model.add(Activation('relu'))\n",
    "img_model.add(MaxPooling2D(pool_size=(2, 2)))\n",
    "img_model.add(Dropout(0.25))\n",
    "\n",
    "img_model.add(Conv2D(64, (3, 3), padding='same'))\n",
    "img_model.add(Activation('relu'))\n",
    "img_model.add(Conv2D(64, (3, 3)))\n",
    "img_model.add(Activation('relu'))\n",
    "img_model.add(MaxPooling2D(pool_size=(2, 2)))\n",
    "img_model.add(Dropout(0.25))\n",
    "\n",
    "img_model.add(Flatten())\n",
    "img_model.add(Dense(512))\n",
    "img_model.add(Activation('relu'))\n",
    "img_model.add(Dropout(0.5))\n",
    "img_model.add(Dense(num_classes))\n",
    "img_model.add(Activation('softmax'))\n",
    "\n",
    "# Let's train the model using RMSprop\n",
    "img_model.compile(loss='categorical_crossentropy', optimizer='rmsprop', metrics=['accuracy'])"
   ]
  },
  {
   "cell_type": "code",
   "execution_count": 59,
   "metadata": {},
   "outputs": [
    {
     "name": "stdout",
     "output_type": "stream",
     "text": [
      "_________________________________________________________________\n",
      "Layer (type)                 Output Shape              Param #   \n",
      "=================================================================\n",
      "conv2d_6 (Conv2D)            (None, 128, 128, 32)      320       \n",
      "_________________________________________________________________\n",
      "activation_7 (Activation)    (None, 128, 128, 32)      0         \n",
      "_________________________________________________________________\n",
      "conv2d_7 (Conv2D)            (None, 126, 126, 32)      9248      \n",
      "_________________________________________________________________\n",
      "activation_8 (Activation)    (None, 126, 126, 32)      0         \n",
      "_________________________________________________________________\n",
      "max_pooling2d_3 (MaxPooling2 (None, 63, 63, 32)        0         \n",
      "_________________________________________________________________\n",
      "dropout_4 (Dropout)          (None, 63, 63, 32)        0         \n",
      "_________________________________________________________________\n",
      "conv2d_8 (Conv2D)            (None, 63, 63, 64)        18496     \n",
      "_________________________________________________________________\n",
      "activation_9 (Activation)    (None, 63, 63, 64)        0         \n",
      "_________________________________________________________________\n",
      "conv2d_9 (Conv2D)            (None, 61, 61, 64)        36928     \n",
      "_________________________________________________________________\n",
      "activation_10 (Activation)   (None, 61, 61, 64)        0         \n",
      "_________________________________________________________________\n",
      "max_pooling2d_4 (MaxPooling2 (None, 30, 30, 64)        0         \n",
      "_________________________________________________________________\n",
      "dropout_5 (Dropout)          (None, 30, 30, 64)        0         \n",
      "_________________________________________________________________\n",
      "flatten_2 (Flatten)          (None, 57600)             0         \n",
      "_________________________________________________________________\n",
      "dense_3 (Dense)              (None, 512)               29491712  \n",
      "_________________________________________________________________\n",
      "activation_11 (Activation)   (None, 512)               0         \n",
      "_________________________________________________________________\n",
      "dropout_6 (Dropout)          (None, 512)               0         \n",
      "_________________________________________________________________\n",
      "dense_4 (Dense)              (None, 99)                50787     \n",
      "_________________________________________________________________\n",
      "activation_12 (Activation)   (None, 99)                0         \n",
      "=================================================================\n",
      "Total params: 29,607,491\n",
      "Trainable params: 29,607,491\n",
      "Non-trainable params: 0\n",
      "_________________________________________________________________\n"
     ]
    }
   ],
   "source": [
    "# output the model summary\n",
    "img_model.count_params()\n",
    "img_model.summary()"
   ]
  },
  {
   "cell_type": "code",
   "execution_count": 60,
   "metadata": {},
   "outputs": [
    {
     "name": "stdout",
     "output_type": "stream",
     "text": [
      "Train on 891 samples, validate on 99 samples\n",
      "Epoch 1/10\n",
      "891/891 [==============================] - 2s - loss: 15.9880 - acc: 0.0079 - val_loss: 15.9553 - val_acc: 0.0101\n",
      "Epoch 2/10\n",
      "891/891 [==============================] - 2s - loss: 15.9553 - acc: 0.0101 - val_loss: 15.9553 - val_acc: 0.0101\n",
      "Epoch 3/10\n",
      "891/891 [==============================] - 2s - loss: 15.9553 - acc: 0.0101 - val_loss: 15.9553 - val_acc: 0.0101\n",
      "Epoch 4/10\n",
      "891/891 [==============================] - 2s - loss: 15.9553 - acc: 0.0101 - val_loss: 15.9553 - val_acc: 0.0101\n",
      "Epoch 5/10\n",
      "891/891 [==============================] - 2s - loss: 15.9553 - acc: 0.0101 - val_loss: 15.9553 - val_acc: 0.0101\n",
      "Epoch 6/10\n",
      "891/891 [==============================] - 2s - loss: 15.9553 - acc: 0.0101 - val_loss: 15.9553 - val_acc: 0.0101\n",
      "Epoch 7/10\n",
      "891/891 [==============================] - 2s - loss: 15.9553 - acc: 0.0101 - val_loss: 15.9553 - val_acc: 0.0101\n",
      "Epoch 8/10\n",
      "891/891 [==============================] - 2s - loss: 15.9553 - acc: 0.0101 - val_loss: 15.9553 - val_acc: 0.0101\n",
      "Epoch 9/10\n",
      "891/891 [==============================] - 2s - loss: 15.9553 - acc: 0.0101 - val_loss: 15.9553 - val_acc: 0.0101\n",
      "Epoch 10/10\n",
      "891/891 [==============================] - 2s - loss: 15.9553 - acc: 0.0101 - val_loss: 15.9553 - val_acc: 0.0101\n"
     ]
    }
   ],
   "source": [
    "img_history = img_model.fit(image_train, train_labels_cat,\n",
    "                            batch_size=16,\n",
    "                            epochs=10,\n",
    "                            validation_split=0.1,\n",
    "                            shuffle=True)"
   ]
  },
  {
   "cell_type": "code",
   "execution_count": 14,
   "metadata": {},
   "outputs": [
    {
     "data": {
      "image/png": "[encoded data removed]",
      "text/plain": [
       "<matplotlib.figure.Figure at 0x16aa84d30>"
      ]
     },
     "metadata": {},
     "output_type": "display_data"
    }
   ],
   "source": [
    "plt.plot(img_history.history['val_acc'])\n",
    "plt.xlabel('Iterations')\n",
    "plt.ylabel('Validation Accuracy')\n",
    "plt.title('Validation Accuracy')\n",
    "plt.show()"
   ]
  },
  {
   "cell_type": "markdown",
   "metadata": {},
   "source": [
    "### Using Features Only"
   ]
  },
  {
   "cell_type": "code",
   "execution_count": 9,
   "metadata": {
    "collapsed": true
   },
   "outputs": [],
   "source": [
    "# build keras model for Features only\n",
    "feat_model = Sequential()\n",
    "feat_model.add(Dense(512, input_dim=192, kernel_initializer='uniform', activation='relu'))\n",
    "feat_model.add(Dropout(0.3))\n",
    "feat_model.add(Dense(256, activation='sigmoid'))\n",
    "feat_model.add(Dropout(0.3))\n",
    "feat_model.add(Dense(99, activation='softmax'))\n",
    "\n",
    "feat_model.compile(loss='categorical_crossentropy', optimizer='rmsprop', metrics=[\"accuracy\"])"
   ]
  },
  {
   "cell_type": "code",
   "execution_count": 10,
   "metadata": {},
   "outputs": [
    {
     "name": "stdout",
     "output_type": "stream",
     "text": [
      "_________________________________________________________________\n",
      "Layer (type)                 Output Shape              Param #   \n",
      "=================================================================\n",
      "dense_1 (Dense)              (None, 512)               98816     \n",
      "_________________________________________________________________\n",
      "dropout_1 (Dropout)          (None, 512)               0         \n",
      "_________________________________________________________________\n",
      "dense_2 (Dense)              (None, 256)               131328    \n",
      "_________________________________________________________________\n",
      "dropout_2 (Dropout)          (None, 256)               0         \n",
      "_________________________________________________________________\n",
      "dense_3 (Dense)              (None, 99)                25443     \n",
      "=================================================================\n",
      "Total params: 255,587\n",
      "Trainable params: 255,587\n",
      "Non-trainable params: 0\n",
      "_________________________________________________________________\n"
     ]
    }
   ],
   "source": [
    "# output the model summary\n",
    "feat_model.count_params()\n",
    "feat_model.summary()"
   ]
  },
  {
   "cell_type": "code",
   "execution_count": 11,
   "metadata": {},
   "outputs": [
    {
     "name": "stdout",
     "output_type": "stream",
     "text": [
      "Train on 891 samples, validate on 99 samples\n",
      "Epoch 1/50\n",
      "891/891 [==============================] - 0s - loss: 4.2485 - acc: 0.1212 - val_loss: 3.5602 - val_acc: 0.4343\n",
      "Epoch 2/50\n",
      "891/891 [==============================] - 0s - loss: 2.9782 - acc: 0.4400 - val_loss: 2.4803 - val_acc: 0.7071\n",
      "Epoch 3/50\n",
      "891/891 [==============================] - 0s - loss: 1.9165 - acc: 0.7026 - val_loss: 1.5127 - val_acc: 0.8788\n",
      "Epoch 4/50\n",
      "891/891 [==============================] - 0s - loss: 1.1958 - acc: 0.8429 - val_loss: 0.9104 - val_acc: 0.9596\n",
      "Epoch 5/50\n",
      "891/891 [==============================] - 0s - loss: 0.7380 - acc: 0.9181 - val_loss: 0.5483 - val_acc: 0.9394\n",
      "Epoch 6/50\n",
      "891/891 [==============================] - 0s - loss: 0.4784 - acc: 0.9540 - val_loss: 0.3513 - val_acc: 0.9697\n",
      "Epoch 7/50\n",
      "891/891 [==============================] - 0s - loss: 0.3196 - acc: 0.9652 - val_loss: 0.2631 - val_acc: 0.9697\n",
      "Epoch 8/50\n",
      "891/891 [==============================] - 0s - loss: 0.2093 - acc: 0.9798 - val_loss: 0.1719 - val_acc: 1.0000\n",
      "Epoch 9/50\n",
      "891/891 [==============================] - 0s - loss: 0.1472 - acc: 0.9899 - val_loss: 0.1143 - val_acc: 1.0000\n",
      "Epoch 10/50\n",
      "891/891 [==============================] - 0s - loss: 0.1058 - acc: 0.9888 - val_loss: 0.1046 - val_acc: 1.0000\n",
      "Epoch 11/50\n",
      "891/891 [==============================] - 0s - loss: 0.0692 - acc: 0.9944 - val_loss: 0.0740 - val_acc: 1.0000\n",
      "Epoch 12/50\n",
      "891/891 [==============================] - 0s - loss: 0.0583 - acc: 0.9921 - val_loss: 0.0541 - val_acc: 0.9899\n",
      "Epoch 13/50\n",
      "891/891 [==============================] - 0s - loss: 0.0380 - acc: 0.9989 - val_loss: 0.0428 - val_acc: 1.0000\n",
      "Epoch 14/50\n",
      "891/891 [==============================] - 0s - loss: 0.0333 - acc: 0.9978 - val_loss: 0.0471 - val_acc: 0.9899\n",
      "Epoch 15/50\n",
      "891/891 [==============================] - 0s - loss: 0.0236 - acc: 0.9978 - val_loss: 0.0384 - val_acc: 0.9899\n",
      "Epoch 16/50\n",
      "891/891 [==============================] - 0s - loss: 0.0222 - acc: 0.9966 - val_loss: 0.0244 - val_acc: 1.0000\n",
      "Epoch 17/50\n",
      "891/891 [==============================] - 0s - loss: 0.0183 - acc: 0.9966 - val_loss: 0.0205 - val_acc: 1.0000\n",
      "Epoch 18/50\n",
      "891/891 [==============================] - 0s - loss: 0.0124 - acc: 0.9989 - val_loss: 0.0254 - val_acc: 1.0000\n",
      "Epoch 19/50\n",
      "891/891 [==============================] - 0s - loss: 0.0089 - acc: 1.0000 - val_loss: 0.0405 - val_acc: 0.9899\n",
      "Epoch 20/50\n",
      "891/891 [==============================] - 0s - loss: 0.0060 - acc: 1.0000 - val_loss: 0.0124 - val_acc: 1.0000\n",
      "Epoch 21/50\n",
      "891/891 [==============================] - 0s - loss: 0.0088 - acc: 0.9978 - val_loss: 0.0133 - val_acc: 1.0000\n",
      "Epoch 22/50\n",
      "891/891 [==============================] - 0s - loss: 0.0086 - acc: 0.9978 - val_loss: 0.0121 - val_acc: 1.0000\n",
      "Epoch 23/50\n",
      "891/891 [==============================] - 0s - loss: 0.0047 - acc: 1.0000 - val_loss: 0.0158 - val_acc: 1.0000\n",
      "Epoch 24/50\n",
      "891/891 [==============================] - 0s - loss: 0.0034 - acc: 0.9989 - val_loss: 0.0237 - val_acc: 1.0000\n",
      "Epoch 25/50\n",
      "891/891 [==============================] - 0s - loss: 0.0024 - acc: 1.0000 - val_loss: 0.0131 - val_acc: 1.0000\n",
      "Epoch 26/50\n",
      "891/891 [==============================] - 0s - loss: 0.0019 - acc: 1.0000 - val_loss: 0.0108 - val_acc: 1.0000\n",
      "Epoch 27/50\n",
      "891/891 [==============================] - 0s - loss: 0.0021 - acc: 0.9989 - val_loss: 0.0104 - val_acc: 1.0000\n",
      "Epoch 28/50\n",
      "891/891 [==============================] - 0s - loss: 0.0011 - acc: 1.0000 - val_loss: 0.0139 - val_acc: 0.9899\n",
      "Epoch 29/50\n",
      "891/891 [==============================] - 0s - loss: 0.0015 - acc: 1.0000 - val_loss: 0.0055 - val_acc: 1.0000\n",
      "Epoch 30/50\n",
      "891/891 [==============================] - 0s - loss: 8.0827e-04 - acc: 1.0000 - val_loss: 0.0095 - val_acc: 1.0000\n",
      "Epoch 31/50\n",
      "891/891 [==============================] - 0s - loss: 6.8483e-04 - acc: 1.0000 - val_loss: 0.0076 - val_acc: 1.0000\n",
      "Epoch 32/50\n",
      "891/891 [==============================] - 0s - loss: 0.0017 - acc: 0.9989 - val_loss: 0.0044 - val_acc: 1.0000\n",
      "Epoch 33/50\n",
      "891/891 [==============================] - 0s - loss: 3.3979e-04 - acc: 1.0000 - val_loss: 0.0033 - val_acc: 1.0000\n",
      "Epoch 34/50\n",
      "891/891 [==============================] - 0s - loss: 2.1090e-04 - acc: 1.0000 - val_loss: 0.0130 - val_acc: 1.0000\n",
      "Epoch 35/50\n",
      "891/891 [==============================] - 0s - loss: 5.3543e-04 - acc: 1.0000 - val_loss: 0.0050 - val_acc: 1.0000\n",
      "Epoch 36/50\n",
      "891/891 [==============================] - 0s - loss: 1.8963e-04 - acc: 1.0000 - val_loss: 0.0052 - val_acc: 1.0000\n",
      "Epoch 37/50\n",
      "891/891 [==============================] - 0s - loss: 4.0301e-04 - acc: 1.0000 - val_loss: 0.0088 - val_acc: 1.0000\n",
      "Epoch 38/50\n",
      "891/891 [==============================] - 0s - loss: 2.5254e-04 - acc: 1.0000 - val_loss: 0.0087 - val_acc: 1.0000\n",
      "Epoch 39/50\n",
      "891/891 [==============================] - 0s - loss: 9.6590e-05 - acc: 1.0000 - val_loss: 0.0073 - val_acc: 1.0000\n",
      "Epoch 40/50\n",
      "891/891 [==============================] - 0s - loss: 1.9823e-04 - acc: 1.0000 - val_loss: 0.0043 - val_acc: 1.0000\n",
      "Epoch 41/50\n",
      "891/891 [==============================] - 0s - loss: 8.2512e-05 - acc: 1.0000 - val_loss: 0.0051 - val_acc: 1.0000\n",
      "Epoch 42/50\n",
      "891/891 [==============================] - 0s - loss: 1.2433e-04 - acc: 1.0000 - val_loss: 0.0063 - val_acc: 1.0000\n",
      "Epoch 43/50\n",
      "891/891 [==============================] - 0s - loss: 1.3692e-04 - acc: 1.0000 - val_loss: 0.0043 - val_acc: 1.0000\n",
      "Epoch 44/50\n",
      "891/891 [==============================] - 0s - loss: 2.2642e-04 - acc: 1.0000 - val_loss: 0.0046 - val_acc: 1.0000\n",
      "Epoch 45/50\n",
      "891/891 [==============================] - 0s - loss: 6.0846e-05 - acc: 1.0000 - val_loss: 0.0047 - val_acc: 1.0000\n",
      "Epoch 46/50\n",
      "891/891 [==============================] - 0s - loss: 3.2972e-05 - acc: 1.0000 - val_loss: 0.0028 - val_acc: 1.0000\n",
      "Epoch 47/50\n",
      "891/891 [==============================] - 0s - loss: 5.1963e-05 - acc: 1.0000 - val_loss: 0.0027 - val_acc: 1.0000\n",
      "Epoch 48/50\n",
      "891/891 [==============================] - 0s - loss: 3.5703e-05 - acc: 1.0000 - val_loss: 0.0062 - val_acc: 1.0000\n",
      "Epoch 49/50\n",
      "891/891 [==============================] - 0s - loss: 2.3208e-05 - acc: 1.0000 - val_loss: 0.0079 - val_acc: 1.0000\n",
      "Epoch 50/50\n",
      "891/891 [==============================] - 0s - loss: 2.7001e-05 - acc: 1.0000 - val_loss: 0.0031 - val_acc: 1.0000\n"
     ]
    }
   ],
   "source": [
    "feat_history = feat_model.fit(feat_train, train_labels_cat,\n",
    "                              batch_size=16,\n",
    "                              epochs=50,\n",
    "                              validation_split=0.1,\n",
    "                              shuffle=True)"
   ]
  },
  {
   "cell_type": "code",
   "execution_count": 19,
   "metadata": {},
   "outputs": [
    {
     "data": {
      "image/png": "[encoded data removed]",
      "text/plain": [
       "<matplotlib.figure.Figure at 0x16cc1fcf8>"
      ]
     },
     "metadata": {},
     "output_type": "display_data"
    }
   ],
   "source": [
    "plt.plot(feat_history.history['val_acc'])\n",
    "plt.xlabel('Iterations')\n",
    "plt.ylabel('Validation Accuracy')\n",
    "plt.title('Validation Accuracy')\n",
    "plt.show()"
   ]
  },
  {
   "cell_type": "code",
   "execution_count": 25,
   "metadata": {},
   "outputs": [
    {
     "name": "stdout",
     "output_type": "stream",
     "text": [
      "\r",
      " 32/594 [>.............................] - ETA: 0s"
     ]
    }
   ],
   "source": [
    "# do prediction\n",
    "pred = feat_model.predict_proba(feat_test)\n",
    "columns = sorted(train.species.unique())\n",
    "pred = pandas.DataFrame(pred, index=test.id, columns=columns)\n",
    "output = open('prediction_fully_connected.csv','w')\n",
    "output.write(pred.to_csv())\n",
    "output.close()"
   ]
  },
  {
   "cell_type": "code",
   "execution_count": null,
   "metadata": {
    "collapsed": true
   },
   "outputs": [],
   "source": []
  }
 ],
 "metadata": {
  "kernelspec": {
   "display_name": "Python 3",
   "language": "python",
   "name": "python3"
  },
  "language_info": {
   "codemirror_mode": {
    "name": "ipython",
    "version": 3
   },
   "file_extension": ".py",
   "mimetype": "text/x-python",
   "name": "python",
   "nbconvert_exporter": "python",
   "pygments_lexer": "ipython3",
   "version": "3.5.3"
  }
 },
 "nbformat": 4,
 "nbformat_minor": 2
}
